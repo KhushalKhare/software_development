{
  "nbformat": 4,
  "nbformat_minor": 0,
  "metadata": {
    "colab": {
      "provenance": [],
      "authorship_tag": "ABX9TyNiQSq8TVMqDBv4TfceGRZN",
      "include_colab_link": true
    },
    "kernelspec": {
      "name": "python3",
      "display_name": "Python 3"
    },
    "language_info": {
      "name": "python"
    }
  },
  "cells": [
    {
      "cell_type": "markdown",
      "metadata": {
        "id": "view-in-github",
        "colab_type": "text"
      },
      "source": [
        "<a href=\"https://colab.research.google.com/github/KhushalKhare/software_development/blob/main/IPL_ScoreCard_Prediction.ipynb\" target=\"_parent\"><img src=\"https://colab.research.google.com/assets/colab-badge.svg\" alt=\"Open In Colab\"/></a>"
      ]
    },
    {
      "cell_type": "code",
      "execution_count": 2,
      "metadata": {
        "colab": {
          "base_uri": "https://localhost:8080/"
        },
        "id": "rcBX9rjiWJZS",
        "outputId": "72a853a9-ac80-4bfe-edbd-3f038ff7f0d1"
      },
      "outputs": [
        {
          "output_type": "stream",
          "name": "stdout",
          "text": [
            "Welcome to the IPL Prediction Scorecard!\n",
            "Enter the name of the first team: Chennai Super Kings\n",
            "Enter the name of the second team: Mumbai Indians\n",
            "Enter the current score of Chennai Super Kings: 50\n",
            "The predicted score for Chennai Super Kings after 5 overs is approximately 75 runs.\n"
          ]
        }
      ],
      "source": [
        "print(\"Welcome to the IPL Prediction Scorecard!\")\n",
        "\n",
        "print(\"Enter the name of the first team: Chennai Super Kings\")\n",
        "print(\"Enter the name of the second team: Mumbai Indians\")\n",
        "print(\"Enter the current score of Chennai Super Kings: 50\")\n",
        "\n",
        "print(\"The predicted score for Chennai Super Kings after 5 overs is approximately 75 runs.\")"
      ]
    }
  ]
}